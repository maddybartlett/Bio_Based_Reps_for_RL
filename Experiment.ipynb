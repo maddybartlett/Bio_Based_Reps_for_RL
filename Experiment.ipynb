{
 "cells": [
  {
   "cell_type": "code",
   "execution_count": null,
   "id": "af9a1b7d",
   "metadata": {},
   "outputs": [],
   "source": [
    "%matplotlib inline"
   ]
  },
  {
   "cell_type": "code",
   "execution_count": null,
   "id": "ab9ab197",
   "metadata": {},
   "outputs": [],
   "source": [
    "import numpy as np\n",
    "import pandas as pd\n",
    "import matplotlib.pyplot as plt\n",
    "import scipy.special\n",
    "from pathlib import Path\n",
    "\n",
    "import nengo\n",
    "import learnrules as rules\n",
    "import representations as rp\n",
    "import minigrid_wrap\n",
    "from ac_learn import ActorCriticLearn"
   ]
  },
  {
   "cell_type": "markdown",
   "id": "81b7151b",
   "metadata": {},
   "source": [
    "**Testing values:** <br>\n",
    "alphas = [0.0001, 0.001, 0.01, 0.05, 0.1, 0.5, 0.75, 0.9, 0.95, 0.99, 1.0] <br>\n",
    "betas = [0.01, 0.1, 0.25, 0.5, 0.6, 0.7, 0.75, 0.8, 0.85, 0.9, 0.95, 0.99] <br>\n",
    "gammas = [0.01, 0.1, 0.25, 0.5, 0.6, 0.7, 0.75, 0.8, 0.85, 0.9, 0.95, 0.99] <br>\n",
    "lambda = [0.01, 0.1, 0.25, 0.5, 0.6, 0.7, 0.75, 0.8, 0.85, 0.9, 0.95, 0.99]<br>\n",
    "<br>\n",
    "n_neurons =  [10, 100, 500, 1000, 1500, 2000, 2500, 3000, 5000] <br>\n",
    "n_dims = [64, 128, 256, 532] <br>\n",
    "sparsity = [0.001, 0.005, 0.01, 0.05, 0.1, 0.2, 0.25, 0.3, 0.4, 0.5, 0.6, 0.7, 0.8, 0.9, 0.95, 0.99] <br>"
   ]
  },
  {
   "cell_type": "code",
   "execution_count": null,
   "id": "4e49fa09",
   "metadata": {},
   "outputs": [],
   "source": [
    "#Set path for data \n",
    "data_folder = Path('../WAT002_RL_Data/MG_TD0_1H_nn_alpha')"
   ]
  },
  {
   "cell_type": "code",
   "execution_count": null,
   "id": "8c2e5285",
   "metadata": {},
   "outputs": [],
   "source": [
    "#Set testing values and number of runs\n",
    "variable = [0.0001, 0.001, 0.01, 0.05, 0.1, 0.5, 0.75, 0.9, 0.95, 0.99, 1.0]\n",
    "runs = 5\n",
    "    \n",
    "#Run experiment\n",
    "for v in variable:\n",
    "    for run in range(runs):\n",
    "        for attempt in range(5):\n",
    "            try:\n",
    "                out = ActorCriticLearn().run(env='MiniGrid',\n",
    "                                             rep=rp.OneHotRep((8,8,4)),\n",
    "                                             trials = 100, #10000,\n",
    "                                             steps = 200,\n",
    "                                             rule=rules.ActorCriticTD0,\n",
    "                                             alpha = v, #0.5, \n",
    "                                             beta = 0.9, \n",
    "                                             gamma = 0.95, \n",
    "                                             n_neurons = None,\n",
    "                                             sparsity = None,\n",
    "                                             sample_encoders = 'False',\n",
    "                                             lambd = None,\n",
    "                                             verbose = False,\n",
    "                                             seed = run,\n",
    "                                             dims = None,\n",
    "                                             data_dir = data_folder, \n",
    "                                             data_format = \"npz\")\n",
    "                if run == 0:\n",
    "                    Results_df = pd.DataFrame([out])\n",
    "                else:\n",
    "                    Results_df.loc[len(Results_df.index)] = out\n",
    "                print(\"Finished test number \", run+1)\n",
    "            except (FloatingPointError, ValueError):\n",
    "                print('NaNs found. Starting again')\n",
    "                continue\n",
    "            else: break\n",
    "        else: \n",
    "            print('Could not do it. Value we could not test: ', v)\n",
    "            break"
   ]
  },
  {
   "cell_type": "markdown",
   "id": "31160de8",
   "metadata": {},
   "source": [
    "**Target Mean Reward:** <br>\n",
    "MiniGrid = 0.95 (arbitrary) "
   ]
  },
  {
   "cell_type": "code",
   "execution_count": null,
   "id": "347fa5e7",
   "metadata": {},
   "outputs": [],
   "source": [
    "np_load_old = np.load\n",
    "# modify the default parameters of np.load\n",
    "np.load = lambda *a,**k: np_load_old(*a, allow_pickle=True, **k)"
   ]
  },
  {
   "cell_type": "code",
   "execution_count": null,
   "id": "566b4584",
   "metadata": {},
   "outputs": [],
   "source": [
    "#Load the data\n",
    "all_data = pd.read_pickle(data_folder)\n",
    "#all_data"
   ]
  },
  {
   "cell_type": "code",
   "execution_count": null,
   "id": "9a36f39b",
   "metadata": {},
   "outputs": [],
   "source": [
    "#Print the maximum reward for each run\n",
    "for i in range(len(all_data)):\n",
    "    index = all_data['roll_mean'][i][0][100:].argmax()\n",
    "    print(all_data['roll_mean'][i][0][index])"
   ]
  },
  {
   "cell_type": "code",
   "execution_count": null,
   "id": "38637496",
   "metadata": {},
   "outputs": [],
   "source": [
    "#Calculate the mean number of runs to reach the goal rolling average reward\n",
    "goal = 0.95\n",
    "goal_reached = []\n",
    "for i in range(len(all_data)):\n",
    "    a=[i for i,v in enumerate(all_data['roll_mean'][i][0]) if np.abs(v) < goal]\n",
    "    if len(a) < 1:\n",
    "        goal_reached.append(np.nan)\n",
    "    else:\n",
    "        goal_reached.append(a[0])\n",
    "        \n",
    "goal_reached = np.asarray(goal_reached)\n",
    "mean_runs = np.nanmean(goal_reached.reshape(-1, 5), axis=1)"
   ]
  },
  {
   "cell_type": "code",
   "execution_count": null,
   "id": "d5b48cd7",
   "metadata": {},
   "outputs": [],
   "source": [
    "#Plot the results\n",
    "values = range(len(variable))\n",
    "\n",
    "plt.figure(figsize=(8, 5))\n",
    "plt.plot(values, mean_runs, marker = 'o')\n",
    "plt.xticks(values, variable)\n",
    "plt.ylabel('Number of Runs to reach Mean Reward <0.95')\n",
    "plt.xlabel('Testing Variable')\n",
    "plt.show()"
   ]
  },
  {
   "cell_type": "markdown",
   "id": "320185cb",
   "metadata": {},
   "source": [
    "| Environment | Rule | rep | runs | steps | alpha | beta | gamma | n_neurons| sparsity | lambda | sample_encoders | dims |\n",
    "| --- | --- | --- | --- | --- | --- | --- | --- | --- | --- | --- | --- | --- |\n",
    "| MiniGrid | TD(0) | OneHotRep((8,8,4)) | 500 | 200 | 0.5 | 0.9 | 0.95 | None | None | None | False | None |\n",
    "| MiniGrid | TD(0) | OneHotRep((8,8,4)) | 1000 | 200 | 0.5 | 0.8 | 0.8 | 3000 | 0.1 | None | False | None |\n",
    "| MiniGrid | TD(0) | SSPRep(N=3, D=256, scale=[0.75,0.75,1.0]) | 500 | 200 | 0.5 | 0.6 | 0.7 | None | None | None | False | 256 |\n",
    "| MiniGrid | TD(0) | SSPRep(N=3, D=128, scale=[0.75,0.75,1.0]) | 300 | 200 | 0.5 | 0.6 | 0.8 | 3000 | 0.25 | None | False | 128 |\n",
    "| MiniGrid | TD(0) | GridSSPRep(3) | 300 | 200 | 0.1 | 0.85 | 0.95 | None | None | None | False | None |\n",
    "| MiniGrid | TD(0) | GridSSPRep(3) | 300 | 200 | 0.1 | 0.85 | 0.95 | 1000 | 0.1 | None | False | None |\n",
    "| --- | --- | --- | --- | --- | --- | --- | --- | --- | --- | --- | --- | --- |\n",
    "| MiniGrid | TD($\\lambda$) | OneHotRep((8,8,4)) | 300 | 200 | 0.1 | 0.9 | 0.95 | None | None | 0.9 | False | None |\n",
    "| MiniGrid | TD($\\lambda$) | OneHotRep((8,8,4)) | 300 | 200 | 0.1 | 0.85 | 0.85 | 2000 | 0.005 | 0.8 | False | None |\n",
    "| MiniGrid | TD($\\lambda$) | SSPRep(N=3, D=256, scale=[0.75,0.75,1.0]) | 500 | 200 | 0.1 | 0.9 | 0.7 | None | None | 0.5 | False | 256 |\n",
    "| MiniGrid | TD($\\lambda$) | SSPRep(N=3, D=256, scale=[0.75,0.75,1.0]) | 500 | 200 | 0.1 | 0.9 | 0.7 | 5000 | 0.2 | 0.5 | False | 256 |\n",
    "| MiniGrid | TD($\\lambda$) | GridSSPRep(3) | 50 | 200 | 0.1 | 0.85 | 0.95 | None | None | 0.9 | False | None |\n",
    "| MiniGrid | TD($\\lambda$) | GridSSPRep(3) | 50 | 200 | 0.1 | 0.85 | 0.95 | 2000 | 0.2 | 0.9 | False | None |\n",
    "| --- | --- | --- | --- | --- | --- | --- | --- | --- | --- | --- | --- | --- |\n",
    "\n"
   ]
  },
  {
   "cell_type": "code",
   "execution_count": null,
   "id": "98fcb9b1",
   "metadata": {},
   "outputs": [],
   "source": []
  }
 ],
 "metadata": {
  "kernelspec": {
   "display_name": "Python 3",
   "language": "python",
   "name": "python3"
  },
  "language_info": {
   "codemirror_mode": {
    "name": "ipython",
    "version": 3
   },
   "file_extension": ".py",
   "mimetype": "text/x-python",
   "name": "python",
   "nbconvert_exporter": "python",
   "pygments_lexer": "ipython3",
   "version": "3.8.8"
  }
 },
 "nbformat": 4,
 "nbformat_minor": 5
}
