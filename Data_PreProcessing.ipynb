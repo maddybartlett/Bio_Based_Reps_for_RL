{
 "cells": [
  {
   "cell_type": "markdown",
   "id": "366cfa67",
   "metadata": {},
   "source": [
    "This script is for pre-processing the raw data files to get the data needed for plotting. It takes a while to load the raw data files so the intention is that you can run this once and have all the data needed for plotting saved in smaller files."
   ]
  },
  {
   "cell_type": "code",
   "execution_count": null,
   "id": "c55d40a9",
   "metadata": {},
   "outputs": [],
   "source": [
    "import pytry\n",
    "import pandas as pd\n",
    "import numpy as np\n",
    "import pickle\n",
    "from pathlib import Path"
   ]
  },
  {
   "cell_type": "code",
   "execution_count": null,
   "id": "aec9bfb1",
   "metadata": {},
   "outputs": [],
   "source": [
    "np_load_old = np.load\n",
    "# modify the default parameters of np.load\n",
    "np.load = lambda *a,**k: np_load_old(*a, allow_pickle=True, **k)"
   ]
  },
  {
   "cell_type": "markdown",
   "id": "2d727b8d",
   "metadata": {},
   "source": [
    "Function for trimming the data for plotting the mean number of trials to reach a goal value"
   ]
  },
  {
   "cell_type": "code",
   "execution_count": null,
   "id": "0049240b",
   "metadata": {},
   "outputs": [],
   "source": [
    "def data_trim_means(data, rep, rule):\n",
    "    data['rep'] = rep\n",
    "    data['rule'] = rule\n",
    "    \n",
    "    del data['episodes']\n",
    "    del data['rewards']\n",
    "    del data['values']\n",
    "    \n",
    "    return data"
   ]
  },
  {
   "cell_type": "markdown",
   "id": "2b466441",
   "metadata": {},
   "source": [
    "Function for retrieving, trimming and saving the data"
   ]
  },
  {
   "cell_type": "code",
   "execution_count": null,
   "id": "1a7fe744",
   "metadata": {},
   "outputs": [],
   "source": [
    "def get_data(task, rule, rep, neurons, param):\n",
    "    TASKS = ['MG', 'MC']\n",
    "    REPS = {'1H' : 'One Hot', 'SSP': 'SSP', 'Grid' : 'GridSSP'}\n",
    "    RULES = {'TD0': 'TD(0)', 'TDLam': 'TD(Lambda)'}\n",
    "    PARAMS = ['alpha', 'beta', 'gamma', 'lambda', 'neurons', 'sparsity', 'dims']\n",
    "    \n",
    "    if task not in TASKS:\n",
    "        raise ValueError(task, 'not found in', TASKS)\n",
    "    elif rule not in RULES:\n",
    "        raise ValueError(rule, 'not found in', REPS.keys())\n",
    "    elif rep not in REPS:\n",
    "        raise ValueError(rep, 'not found in', RULES.keys())\n",
    "    elif not isinstance(neurons, bool):\n",
    "        raise TypeError('Argument neurons must be of type bool')\n",
    "    elif param not in PARAMS:\n",
    "        raise ValueError(rep, 'not found in', PARAMS)\n",
    "    \n",
    "    if neurons:\n",
    "        hidden = 'n'\n",
    "        neuron_cap = 'N'\n",
    "    else:\n",
    "        hidden = 'nn'\n",
    "        neuron_cap = 'NN'\n",
    "        \n",
    "    # Load the data files\n",
    "    data_folder = Path('../data/'+task+'_'+rule+'_'+rep+'_'+hidden+'_'+param)\n",
    "    data = pd.DataFrame(pytry.read(data_folder))\n",
    "    print('data loaded')\n",
    "\n",
    "    # Trim the data\n",
    "    data = data_trim_means(data, REPS[rep], RULES[rule])\n",
    "    print('data trimmed')\n",
    "    \n",
    "    # Save the data\n",
    "    data.to_pickle('../data/'+param+'_'+task+rep+neuron_cap+rule+'_data')\n",
    "    print('data saved. Done')"
   ]
  },
  {
   "cell_type": "markdown",
   "id": "4fd576c3",
   "metadata": {},
   "source": [
    "# MiniGrid "
   ]
  },
  {
   "cell_type": "markdown",
   "id": "a7202fe8",
   "metadata": {},
   "source": [
    "## OneHotRep No Neurons TD(0) - Look-up Table Equivalent"
   ]
  },
  {
   "cell_type": "code",
   "execution_count": null,
   "id": "e6942204",
   "metadata": {},
   "outputs": [],
   "source": [
    "## ALPHA ##\n",
    "get_data('MG', 'TD0', '1H', False, 'alpha')"
   ]
  },
  {
   "cell_type": "code",
   "execution_count": null,
   "id": "8480f26a",
   "metadata": {},
   "outputs": [],
   "source": [
    "## BETA ##\n",
    "get_data('MG', 'TD0', '1H', False, 'beta')"
   ]
  },
  {
   "cell_type": "code",
   "execution_count": null,
   "id": "b849aba1",
   "metadata": {},
   "outputs": [],
   "source": [
    "## GAMMA ##\n",
    "get_data('MG', 'TD0', '1H', False, 'gamma')"
   ]
  },
  {
   "cell_type": "markdown",
   "id": "2fa925e6",
   "metadata": {},
   "source": [
    "## OneHotRep With Neurons TD(0)"
   ]
  },
  {
   "cell_type": "code",
   "execution_count": null,
   "id": "6a1a678e",
   "metadata": {},
   "outputs": [],
   "source": [
    "## ALPHA ##\n",
    "get_data('MG', 'TD0', '1H', True, 'alpha')"
   ]
  },
  {
   "cell_type": "code",
   "execution_count": null,
   "id": "045f61ba",
   "metadata": {},
   "outputs": [],
   "source": [
    "## BETA ##\n",
    "get_data('MG', 'TD0', '1H', True, 'beta')"
   ]
  },
  {
   "cell_type": "code",
   "execution_count": null,
   "id": "e7f2adb5",
   "metadata": {},
   "outputs": [],
   "source": [
    "## GAMMA ##\n",
    "get_data('MG', 'TD0', '1H', True, 'gamma')"
   ]
  },
  {
   "cell_type": "code",
   "execution_count": null,
   "id": "e546f50b",
   "metadata": {},
   "outputs": [],
   "source": [
    "## NEURONS ##\n",
    "get_data('MG', 'TD0', '1H', True, 'neurons')"
   ]
  },
  {
   "cell_type": "code",
   "execution_count": null,
   "id": "cf92b6c7",
   "metadata": {},
   "outputs": [],
   "source": [
    "## SPARSITY ##\n",
    "get_data('MG', 'TD0', '1H', True, 'sparsity')"
   ]
  },
  {
   "cell_type": "markdown",
   "id": "2ac914fa",
   "metadata": {},
   "source": [
    "## SSPRep With Neurons TD(0)"
   ]
  },
  {
   "cell_type": "code",
   "execution_count": null,
   "id": "3aaa01fb",
   "metadata": {},
   "outputs": [],
   "source": [
    "## ALPHA ##\n",
    "get_data('MG', 'TD0', 'SSP', True, 'alpha')"
   ]
  },
  {
   "cell_type": "code",
   "execution_count": null,
   "id": "3c376c52",
   "metadata": {},
   "outputs": [],
   "source": [
    "## BETA ##\n",
    "get_data('MG', 'TD0', 'SSP', True, 'beta')"
   ]
  },
  {
   "cell_type": "code",
   "execution_count": null,
   "id": "4d9a201e",
   "metadata": {},
   "outputs": [],
   "source": [
    "## GAMMA ##\n",
    "get_data('MG', 'TD0', 'SSP', True, 'gamma')"
   ]
  },
  {
   "cell_type": "code",
   "execution_count": null,
   "id": "c1c3bab4",
   "metadata": {},
   "outputs": [],
   "source": [
    "## NEURONS ##\n",
    "get_data('MG', 'TD0', 'SSP', True, 'neurons')"
   ]
  },
  {
   "cell_type": "code",
   "execution_count": null,
   "id": "c3573409",
   "metadata": {},
   "outputs": [],
   "source": [
    "## SPARSITY ##\n",
    "get_data('MG', 'TD0', 'SSP', True, 'sparsity')"
   ]
  },
  {
   "cell_type": "code",
   "execution_count": null,
   "id": "6bcbe5e7",
   "metadata": {},
   "outputs": [],
   "source": [
    "## DIMENSIONS ##\n",
    "get_data('MG', 'TD0', 'SSP', True, 'dims')"
   ]
  },
  {
   "cell_type": "markdown",
   "id": "05c1acd1",
   "metadata": {},
   "source": [
    "## GridSSP With Neurons TD(0)"
   ]
  },
  {
   "cell_type": "code",
   "execution_count": null,
   "id": "f31ebfc8",
   "metadata": {},
   "outputs": [],
   "source": [
    "## ALPHA ##\n",
    "get_data('MG', 'TD0', 'GridSSP', True, 'alpha')"
   ]
  },
  {
   "cell_type": "code",
   "execution_count": null,
   "id": "ad6cf7cf",
   "metadata": {},
   "outputs": [],
   "source": [
    "## BETA ##\n",
    "get_data('MG', 'TD0', 'GridSSP', True, 'beta')"
   ]
  },
  {
   "cell_type": "code",
   "execution_count": null,
   "id": "8ef79fb1",
   "metadata": {},
   "outputs": [],
   "source": [
    "## GAMMA ##\n",
    "get_data('MG', 'TD0', 'GridSSP', True, 'gamma')"
   ]
  },
  {
   "cell_type": "code",
   "execution_count": null,
   "id": "7305a143",
   "metadata": {},
   "outputs": [],
   "source": [
    "## NEURONS ##\n",
    "get_data('MG', 'TD0', 'GridSSP', True, 'neurons')"
   ]
  },
  {
   "cell_type": "code",
   "execution_count": null,
   "id": "1f694e1e",
   "metadata": {},
   "outputs": [],
   "source": [
    "## SPARSITY ##\n",
    "get_data('MG', 'TD0', 'GridSSP', True, 'sparsity')"
   ]
  },
  {
   "cell_type": "markdown",
   "id": "42963a02",
   "metadata": {},
   "source": [
    "## OneHotRep No Neurons TD($\\lambda$) - Look-up Table Equivalent"
   ]
  },
  {
   "cell_type": "code",
   "execution_count": null,
   "id": "3b186580",
   "metadata": {},
   "outputs": [],
   "source": [
    "## ALPHA ##\n",
    "get_data('MG', 'TDLam', '1H', False, 'alpha')"
   ]
  },
  {
   "cell_type": "code",
   "execution_count": null,
   "id": "b50fec08",
   "metadata": {},
   "outputs": [],
   "source": [
    "## BETA ##\n",
    "get_data('MG', 'TDLam', '1H', False, 'beta')"
   ]
  },
  {
   "cell_type": "code",
   "execution_count": null,
   "id": "5643e1c2",
   "metadata": {},
   "outputs": [],
   "source": [
    "## GAMMA ##\n",
    "get_data('MG', 'TDLam', '1H', False, 'gamma')"
   ]
  },
  {
   "cell_type": "code",
   "execution_count": null,
   "id": "3c4bf386",
   "metadata": {},
   "outputs": [],
   "source": [
    "## LAMBDA ##\n",
    "get_data('MG', 'TDLam', '1H', False, 'lambda')"
   ]
  },
  {
   "cell_type": "markdown",
   "id": "78d48f50",
   "metadata": {},
   "source": [
    "## OneHotRep With Neurons TD($\\lambda$) "
   ]
  },
  {
   "cell_type": "code",
   "execution_count": null,
   "id": "f434c3bd",
   "metadata": {},
   "outputs": [],
   "source": [
    "## ALPHA ##\n",
    "get_data('MG', 'TDLam', '1H', True, 'alpha')"
   ]
  },
  {
   "cell_type": "code",
   "execution_count": null,
   "id": "8bd30b11",
   "metadata": {},
   "outputs": [],
   "source": [
    "## BETA ##\n",
    "get_data('MG', 'TDLam', '1H', True, 'beta')"
   ]
  },
  {
   "cell_type": "code",
   "execution_count": null,
   "id": "c7557a5d",
   "metadata": {},
   "outputs": [],
   "source": [
    "## GAMMA ##\n",
    "get_data('MG', 'TDLam', '1H', True, 'gamma')"
   ]
  },
  {
   "cell_type": "code",
   "execution_count": null,
   "id": "36008c95",
   "metadata": {},
   "outputs": [],
   "source": [
    "## LAMBDA ##\n",
    "get_data('MG', 'TDLam', '1H', True, 'lambda')"
   ]
  },
  {
   "cell_type": "code",
   "execution_count": null,
   "id": "3353aced",
   "metadata": {},
   "outputs": [],
   "source": [
    "## NEURONS ##\n",
    "get_data('MG', 'TDLam', '1H', True, 'neurons')"
   ]
  },
  {
   "cell_type": "code",
   "execution_count": null,
   "id": "d0211abc",
   "metadata": {},
   "outputs": [],
   "source": [
    "## SPARSITY ##\n",
    "get_data('MG', 'TDLam', '1H', True, 'sparsity')"
   ]
  },
  {
   "cell_type": "markdown",
   "id": "1b41dc14",
   "metadata": {},
   "source": [
    "## SSPRep With Neurons TD($\\lambda$) "
   ]
  },
  {
   "cell_type": "code",
   "execution_count": null,
   "id": "610ac15e",
   "metadata": {},
   "outputs": [],
   "source": [
    "## ALPHA ##\n",
    "get_data('MG', 'TDLam', 'SSP', True, 'alpha')"
   ]
  },
  {
   "cell_type": "code",
   "execution_count": null,
   "id": "37c28967",
   "metadata": {},
   "outputs": [],
   "source": [
    "## BETA ##\n",
    "get_data('MG', 'TDLam', 'SSP', True, 'beta')"
   ]
  },
  {
   "cell_type": "code",
   "execution_count": null,
   "id": "c625d4f5",
   "metadata": {},
   "outputs": [],
   "source": [
    "## GAMMA ##\n",
    "get_data('MG', 'TDLam', 'SSP', True, 'gamma')"
   ]
  },
  {
   "cell_type": "code",
   "execution_count": null,
   "id": "7a08f0f2",
   "metadata": {},
   "outputs": [],
   "source": [
    "## LAMBDA ##\n",
    "get_data('MG', 'TDLam', 'SSP', True, 'lambda')"
   ]
  },
  {
   "cell_type": "code",
   "execution_count": null,
   "id": "21be4bf3",
   "metadata": {},
   "outputs": [],
   "source": [
    "## NEURONS ##\n",
    "get_data('MG', 'TDLam', 'SSP', True, 'neurons')"
   ]
  },
  {
   "cell_type": "code",
   "execution_count": null,
   "id": "4c4cc529",
   "metadata": {},
   "outputs": [],
   "source": [
    "## SPARSITY ##\n",
    "get_data('MG', 'TDLam', 'SSP', True, 'sparsity')"
   ]
  },
  {
   "cell_type": "code",
   "execution_count": null,
   "id": "9ec8a727",
   "metadata": {},
   "outputs": [],
   "source": [
    "## DIMENSIONS ##\n",
    "get_data('MG', 'TDLam', 'SSP', True, 'dims')"
   ]
  },
  {
   "cell_type": "markdown",
   "id": "fa06a6f0",
   "metadata": {},
   "source": [
    "## GridSSP With Neurons TD($\\lambda$)"
   ]
  },
  {
   "cell_type": "code",
   "execution_count": null,
   "id": "f8bad1aa",
   "metadata": {},
   "outputs": [],
   "source": [
    "## ALPHA ##\n",
    "get_data('MG', 'TDLam', 'GridSSP', True, 'alpha')"
   ]
  },
  {
   "cell_type": "code",
   "execution_count": null,
   "id": "f4dff7b7",
   "metadata": {},
   "outputs": [],
   "source": [
    "## BETA ##\n",
    "get_data('MG', 'TDLam', 'GridSSP', True, 'beta')"
   ]
  },
  {
   "cell_type": "code",
   "execution_count": null,
   "id": "8d6f1b4a",
   "metadata": {},
   "outputs": [],
   "source": [
    "## GAMMA ##\n",
    "get_data('MG', 'TDLam', 'GridSSP', True, 'gamma')"
   ]
  },
  {
   "cell_type": "code",
   "execution_count": null,
   "id": "91171290",
   "metadata": {},
   "outputs": [],
   "source": [
    "## LAMBDA ##\n",
    "get_data('MG', 'TDLam', 'GridSSP', True, 'lambda')"
   ]
  },
  {
   "cell_type": "code",
   "execution_count": null,
   "id": "79884553",
   "metadata": {},
   "outputs": [],
   "source": [
    "## NEURONS ##\n",
    "get_data('MG', 'TDLam', 'GridSSP', True, 'neurons')"
   ]
  },
  {
   "cell_type": "code",
   "execution_count": null,
   "id": "5d403121",
   "metadata": {},
   "outputs": [],
   "source": [
    "## SPARSITY ##\n",
    "get_data('MG', 'TDLam', 'GridSSP', True, 'sparsity')"
   ]
  },
  {
   "cell_type": "code",
   "execution_count": null,
   "id": "2d4f6443",
   "metadata": {},
   "outputs": [],
   "source": []
  }
 ],
 "metadata": {
  "kernelspec": {
   "display_name": "Python 3",
   "language": "python",
   "name": "python3"
  },
  "language_info": {
   "codemirror_mode": {
    "name": "ipython",
    "version": 3
   },
   "file_extension": ".py",
   "mimetype": "text/x-python",
   "name": "python",
   "nbconvert_exporter": "python",
   "pygments_lexer": "ipython3",
   "version": "3.8.8"
  }
 },
 "nbformat": 4,
 "nbformat_minor": 5
}
